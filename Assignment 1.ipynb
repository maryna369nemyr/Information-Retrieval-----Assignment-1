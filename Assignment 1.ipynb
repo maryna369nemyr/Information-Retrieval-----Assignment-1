{
 "cells": [
  {
   "cell_type": "markdown",
   "metadata": {},
   "source": [
    "# Assignment 1\n",
    "Prepared by \n",
    "\n",
    "*G13*\n",
    "\n",
    "*Brüß, Claas*,\n",
    "\n",
    "*Koumene Taffo, Gildas Igor(03696160)*,\n",
    "\n",
    "*Li, Bowen(03709969)*,\n",
    "\n",
    "*Muralidharan, Akshaya (03693620)*,\n",
    "\n",
    "*Nemyrovska, Maryna(03694104)*.\n",
    "\n"
   ]
  },
  {
   "cell_type": "markdown",
   "metadata": {},
   "source": [
    "## Task1\n",
    "\n",
    "Let ${C_d} = \\left\\{ {x \\in {\\mathbb{R}^p}|\\parallel x{\\parallel _\\infty } \\leqslant \\frac{d}{2}} \\right\\}$ denote the  $p$-dimensional hypercube of edge length $d$, centered at the origin. Assuming $X$ to be uniformly distributed  in ${C_1}$, let determine $d$ in dependence of $p$ and $q \\in \\left[ {0,1} \\right]$, such that \n",
    " ###### $$\\Pr \\left( {X \\in  {C_d}} \\right) = q$$ \n",
    " holds.\n",
    " ##### $\\bullet $\n",
    "We define the probability that $X \\in {C_d} \\subset {C_1}$ simply as the ratio of the volume of ${C_d}$ relative to the entire volume of ${C_1}$, hypercube of unit edge length:\n",
    "\n",
    "\n",
    " ###### $$\\Pr \\left( {X \\in {C_d}} \\right) = \\frac{{Vol\\left( {{C_d}} \\right)}}{{Vol\\left( {{C_1}} \\right)}}$$\n",
    "\n",
    "Recall that the volume of a $p$-dimensional hypercube of edge $r$ is given by ${r^p}$. This implies that,\n",
    "\n",
    "###### $$Vol\\left( {{C_d}} \\right) = {d^p}\\;,\\;Vol\\left( {{C_1}} \\right) = {1^p}.$$\n",
    "\n",
    "Hence,\n",
    "\n",
    "###### $$\\Pr \\left( {X \\in {C_d}} \\right) = \\frac{{Vol\\left( {{C_d}} \\right)}}{{Vol\\left( {{C_1}} \\right)}} = \\frac{{{d^p}}}{1} = {d^p}$$\n",
    "\n",
    "\n",
    "Given that  $\\Pr \\left( {X \\in {C_d}} \\right) = q$ as stated in the exercise, equating the two expressions of $\\Pr \\left( {X \\in {C_d}} \\right)$ yields:\n",
    "\n",
    "###### $$q = {d^p} \\Rightarrow d = {\\left( q \\right)^{\\frac{1}{p}}}$$\n",
    "\n",
    "\n",
    "###### $$\\boxed{d = {{\\left( q \\right)}^{\\frac{1}{p}}}}$$\n",
    "\n",
    "\n",
    "\n",
    "##### $\\bullet $\n",
    "Let the components of the p-dimensional random variable ${X^p}$ be independent and\n",
    "have the standard normal distribution. Knowing that $\\Pr \\left( {|{X^1}| \\leqslant 2.576} \\right) = 0.99,$ let determine for an arbitrary p, the probability $\\Pr \\left( {\\parallel {X^p}{\\parallel _\\infty } > 2.576} \\right)$ for any of the components of ${X^p}$ to lie outside the interval $\\left[ { - 2.576,2.576} \\right]$.\n",
    "\n",
    "This probability can be expressed as:\n",
    "$$\\begin{gathered}\n",
    "  \\Pr \\left( {\\parallel {X^p}{\\parallel _\\infty } > 2.576} \\right) = 1 - \\Pr \\left( {\\parallel {X^p}{\\parallel _\\infty } \\leqslant 2.576} \\right) \\hfill \\\\\n",
    "   \\;\\;\\;\\;\\;\\;\\;\\;\\;\\;\\;\\;\\;\\;\\;\\;\\;\\;\\;\\;\\;\\;\\;\\;\\;\\;= 1 - \\Pr {\\left( {|{X^1}| \\leqslant 2.576} \\right)^p} \\hfill \\\\\n",
    "  \\;\\;\\;\\;\\;\\;\\;\\;\\;\\; = 1 - {\\left( {0.99} \\right)^p} \\hfill \\\\ \n",
    "\\end{gathered} $$\n",
    "\n",
    "\n",
    "\n",
    "###### $$\\boxed{\\Pr \\left( {\\parallel {X^p}{\\parallel _\\infty } > 2.576} \\right) = 1 - {{\\left( {0.99} \\right)}^p}}$$\n",
    "\n",
    "\n",
    "Evaluating the probability for some values of $p.$\n",
    "\n",
    " $\\cdot p=2$\n",
    "###### $\\Pr \\left( {\\parallel {X^2}{\\parallel _\\infty } > 2.576} \\right) = 1 - {\\left( {0.99} \\right)^2} = 0.0199$\n",
    "\n",
    "\n",
    " $\\cdot p=3$\n",
    "###### $\\Pr \\left( {\\parallel {X^3}{\\parallel _\\infty } > 2.576} \\right) = 1 - {\\left( {0.99} \\right)^3} = 0.0297$\n",
    "\n",
    "\n",
    " $\\cdot p=500$\n",
    "###### $\\Pr \\left( {\\parallel {X^{500}}{\\parallel _\\infty } > 2.576} \\right) = 1 - {\\left( {0.99} \\right)^{500}} = 0.9934$"
   ]
  },
  {
   "cell_type": "markdown",
   "metadata": {},
   "source": [
    "## Task 2\n"
   ]
  },
  {
   "cell_type": "code",
   "execution_count": 1,
   "metadata": {
    "collapsed": true
   },
   "outputs": [],
   "source": [
    "import numpy as np\n",
    "from numpy import linalg as LA\n",
    "import math\n",
    "from matplotlib import pyplot as plt\n",
    "%matplotlib inline"
   ]
  },
  {
   "cell_type": "code",
   "execution_count": 2,
   "metadata": {
    "collapsed": true
   },
   "outputs": [],
   "source": [
    "N=100 #Number of vectors\n"
   ]
  },
  {
   "cell_type": "code",
   "execution_count": 3,
   "metadata": {
    "collapsed": true
   },
   "outputs": [],
   "source": [
    "d=2 # the dimension of each vector"
   ]
  },
  {
   "cell_type": "code",
   "execution_count": 4,
   "metadata": {
    "collapsed": true
   },
   "outputs": [],
   "source": [
    "vectors= np.random.uniform(low=-1, high=1, size=[N,d]) # Sampling the N random vectors of dimension d."
   ]
  },
  {
   "cell_type": "markdown",
   "metadata": {},
   "source": [
    "We define two helper functions below"
   ]
  },
  {
   "cell_type": "code",
   "execution_count": 5,
   "metadata": {
    "collapsed": true
   },
   "outputs": [],
   "source": [
    "def angle(X,i,j):\n",
    "     # This function compute the angle between row i and row j of a matrix X\n",
    "         # Having in mind that the N vectors of dimension d form a N*d Matrix\n",
    "   \n",
    " # compute norm of vector\n",
    "    Xi_norm=LA.norm(X[i])\n",
    "    Xj_norm=LA.norm(X[j])\n",
    "       #dot product of two vectors \n",
    "    XiXj_dot=X[i].dot(X[j])  \n",
    "    \n",
    "    return math.acos(XiXj_dot/(Xi_norm*Xj_norm))# angle between the two vectors"
   ]
  },
  {
   "cell_type": "code",
   "execution_count": 6,
   "metadata": {
    "collapsed": true
   },
   "outputs": [],
   "source": [
    "def Average_minimum_angle(X):\n",
    "     #This function Compute  the Average mininum angle\n",
    "    N=X.shape[0]\n",
    "    mini_angles=[]\n",
    "    for i in range(N):\n",
    "        mini_angle=np.inf # initialize the mini angle with infinity\n",
    "        for j in range(N):\n",
    "            if i!=j:\n",
    "                ang=angle(X,i,j)\n",
    "                if ang < mini_angle:\n",
    "                    mini_angle=ang\n",
    "                \n",
    "        mini_angles.append(mini_angle) \n",
    "    aver_min_ang=sum(mini_angles)/N   #compute the average of the N minimum angles \n",
    "   \n",
    "    return math.degrees(aver_min_ang) #return the average minimum angle in degrees."
   ]
  },
  {
   "cell_type": "code",
   "execution_count": 7,
   "metadata": {},
   "outputs": [
    {
     "data": {
      "text/plain": [
       "1.788379095647181"
      ]
     },
     "execution_count": 7,
     "metadata": {},
     "output_type": "execute_result"
    }
   ],
   "source": [
    "Average_minimum_angle(vectors) # Average minimum angle between N=100 vectors of dimension d =2"
   ]
  },
  {
   "cell_type": "code",
   "execution_count": 8,
   "metadata": {
    "collapsed": true
   },
   "outputs": [],
   "source": [
    "#Compute the Average minimum angle for N vectors with different  dimension in range d=1....1000\n",
    "\n",
    "N=100\n",
    "d_range = np.arange(1,1002,2)\n",
    "all_mini_ang=[]\n",
    "for k in d_range:\n",
    "    vectors= np.random.uniform(low=-1, high=1, size=[N,k])\n",
    "    all_mini_ang.append(Average_minimum_angle(vectors))"
   ]
  },
  {
   "cell_type": "code",
   "execution_count": 9,
   "metadata": {},
   "outputs": [
    {
     "data": {
      "image/png": "[encoded data removed]",
      "text/plain": [
       "<matplotlib.figure.Figure at 0x1f6aa503400>"
      ]
     },
     "metadata": {},
     "output_type": "display_data"
    }
   ],
   "source": [
    "# plot the Average minimum angle against dimension\n",
    "fig = plt.figure(figsize=(11,7))\n",
    "plt.plot(d_range, all_mini_ang)\n",
    "plt.title(\"Average minimum angle versus dimension\", fontsize=20)\n",
    "plt.xlabel(\"d\", fontsize=20)\n",
    "plt.ylabel(\"$\\\\theta_{avmin}$\", fontsize=20)\n",
    "ax = plt.gca()\n",
    "ax.tick_params(labelsize=20)\n",
    "plt.show()"
   ]
  },
  {
   "cell_type": "markdown",
   "metadata": {},
   "source": [
    "The graph shows that the average minimum angle tends to ${90^ \\circ }$ with increasing dimension. Hence  two randomly sampled vectors $x,y \\in [-1, 1]^d \\subset {R}^d$ will appear to be orthogonal (**perpendicular to each other**)  with high probability.\n"
   ]
  },
  {
   "cell_type": "code",
   "execution_count": null,
   "metadata": {
    "collapsed": true
   },
   "outputs": [],
   "source": []
  },
  {
   "cell_type": "markdown",
   "metadata": {},
   "source": [
    "If the **sample size** of randomly generated vectors increases, then only the probablity of all of them being perpendicular to each other changes.\n",
    "\n",
    "Thus more particular:\n",
    "\n",
    "$$P \\biggl\\{\\lvert \\langle x_i, x_j \\rangle \\rvert \\leq \\frac{\\sqrt{6 ln n }}{\\sqrt{d-1}} \\biggr\\} \\geq 1 -O\\biggl(\\frac{1}{n}\\biggr),  \\quad i \\neq j, $$\n",
    "$n$ is a sample size here and we have generated $x_1, ..., x_n$ from a unit ball uniformly.\n",
    "\n",
    "Also note that the angle between two generated vectors is expressed by the scalar product of them divided by the product of their length. \n",
    "We are also using the result that\n",
    "$$P \\biggl \\{ ||\\left (x_i)\\right||_2 \\leq 1 - 2\\frac{ln n}{d} \\biggr\\} = $$ \n",
    "\n",
    "$$=\\frac{Vol(Bd(0, 1 - \\frac{2 ln n}{d}))}{Vol(Bd(0, 1))} =$$  $$=(1 - \\frac{2 ln n}{d})^d \\cdot \\frac{Vol(Bd(0, 1 ))}{Vol(Bd(0, 1))}  =$$ \n",
    "\n",
    "$$= (1 - \\frac{2 ln n}{d})^d \\overset{1-x \\leq e^x}{\\leq} exp[(1 -\\frac{2 ln n}{d} )d] = \\frac{1}{n^2}.$$\n",
    "\n",
    "Then $P \\biggl \\{ \\exists i ||\\left (x_i)\\right||_2 \\leq 1 - 2\\frac{ln n}{d} \\biggr\\} \\leq n \\cdot \\frac{1}{n^2} = \\frac{1}{n} \\Rightarrow P \\biggl \\{ \\forall i ||\\left (x_i)\\right||_2 \\leq 1 - 2\\frac{ln n}{d} \\biggr\\} \\leq 1- \\frac{1}{n}. $ Then all the uniformly samled vectors from a ball are of length 1 with hight probability.\n",
    "\n",
    "To prove $$P \\biggl\\{\\lvert \\langle x_i, x_j \\rangle \\rvert \\leq \\frac{\\sqrt{6 ln n }}{\\sqrt{d-1}} \\biggr\\} \\geq 1 -O\\biggl(\\frac{1}{n}\\biggr),  \\quad i \\neq j, $$ we need a concentration inequality, that states that all the volume is concentrated near the equator, or , in other words,\n",
    "$\\forall c \\geq 1 , d \\geq 3 $\n",
    "$$P\\biggl\\{ \\lvert x_k \\rvert \\leq \\frac{{c}}{\\sqrt{d-1}}\\biggr\\} \\geq 1 -\\frac{2}{c}\\biggl(\\exp{\\frac{-c^2}{2}}\\biggr),$$\n",
    "where $x_k$ is a fraction of a $d$ dimensional ball.\n",
    "\n",
    "\n"
   ]
  },
  {
   "cell_type": "markdown",
   "metadata": {},
   "source": [
    "*Proof:*\n",
    "\n",
    "Let us conside the projection of two fixed points:\n",
    "\n",
    "$$ \\mid Pr_x(x’) \\mid=  \\mid\\langle x’, \\frac{x}{||\\left (x)\\right||_2}\\rangle\\mid \\Rightarrow \\mid \\langle x’, \\frac{x}{||\\left (x)\\right||_2}\\rangle\\mid \\cdot {||\\left (x)\\right||_2} = Pr_x(x’) \\cdot {||\\left (x)\\right||_2} \\leq Pr_x(x’),$$ since x is from the unit ball, hence its norm cant be more than 1. \n",
    "\n",
    "Applying the concentration inequality ( near the equator) we obtain:\n",
    "\n",
    "\n",
    "$$P\\biggl\\{\\mid \\langle x, x’ \\rangle\\mid \\geq \\frac{\\sqrt{6 ln n }}{\\sqrt{d-1}}  \\biggr\\} \\iff P\\biggl \\{\\mid Pr_x(x’)\\mid\\geq \\frac{\\sqrt{6 ln n }}{\\sqrt{d-1}} \\biggr \\} \\leq \\frac{2}{\\sqrt{6 ln n }}\\biggl(\\exp{\\frac{-(\\sqrt{6 ln n })^2}{2}}\\biggr) =$$\n",
    "$$\\exp ( -3ln n + ln2 - ln(\\sqrt{6 ln ((n)}) \\leq \\exp(-3ln n + ln2 ) = O\\biggl(\\exp^{ln(\\frac{1}{n^3})}\\biggr) = O\\biggl(\\frac{1}{n^3}\\biggr).$$\n",
    "\n",
    "Since we have $\\frac{n(n-1)}{2}$ pairs of vectors, we fetch\n",
    "\n",
    "$$P\\biggl\\{ \\exists i, j: \\mid\\langle x, x’ \\rangle\\mid \\geq \\frac{\\sqrt{6 ln n }}{\\sqrt{d-1}}\\biggr \\} \\leq \\frac{1}{n^3} \\frac{n^2 -n }{2} = O\\biggl(\\frac{1}{n}\\biggr). $$\n",
    "So\n",
    "$$P\\biggl \\{\\mid \\langle x_i, x_j \\rangle \\mid \\leq \\frac{\\sqrt{6 ln n }}{\\sqrt{d-1}} \\biggr\\} \\geq 1 -O\\biggl(\\frac{1}{n}\\biggr),  \\quad i \\neq j, $$ what we needed to prove.\n",
    "\n",
    "\n"
   ]
  },
  {
   "cell_type": "code",
   "execution_count": null,
   "metadata": {
    "collapsed": true
   },
   "outputs": [],
   "source": []
  },
  {
   "cell_type": "markdown",
   "metadata": {},
   "source": [
    "## Task 3"
   ]
  },
  {
   "cell_type": "markdown",
   "metadata": {},
   "source": [
    "#### *3.1* \n",
    "Yes, since all the entries in the table sum upto 1.\n",
    "\n",
    "#### *3.2.1* \n",
    "$$ E_{Y|X=2}[Y] = (1*0.4) + (2*0.14) + (3*0.05) = 0.4 + 0.28 + 0.15 = 0.83 $$\n",
    "\n",
    "\n",
    "#### *3.2.2* \n",
    "$$ P(X=1|Y=3) = \\frac{P(X=1,Y=3)}{P(Y=3)} = \\frac{0.13}{0.13+0.05} = 0.722 $$\n",
    "\n",
    "#### *3.3*\n",
    "The given function is not a probability density function since $$\\int_0^{1} \\int_0^{\\frac{1}{2}} 1 dy dx = \\frac{1}{2} \\neq 1$$\n",
    "\n",
    "#### *3.4*\n",
    "Marginal density function for X and Y are\n",
    "$$ p(x) = \\int_{0}^{+\\infty} 2\\exp(-(x+y)) dy = 2e^{-x} \\int_{0}^{+\\infty}e^{-y} dy = 2e^{-x} (-e^{-y}) \\rvert_{0}^{+\\infty} = 2e^{-x} (\\lim_{y \\rightarrow +\\infty}{(-e^{-y})}   + e^0) = 2e^{-x}(0+ 1) =   2e^{-x}.  $$\n",
    "\n",
    "$$ p(y) = \\int_{0}^{y}2\\exp(-(x+y)) dx = 2e^{-y} \\int_{0}^{y}e^{-x}dx =  2e^{-y} \\cdot (-e^{-x}) \\rvert_{0}^{y} = 2e^{-y} \\cdot ( -e^{-y} + 1) =-2e^{-2y} + 2e^{-y}.$$\n",
    "\n",
    "#### *3.5*\n",
    "$$ p_X(X \\rvert Y = y) = \\frac{p_{X,Y}(X,Y)} {p_Y(Y)}.$$\n",
    "The marginal probability of Y is equal to \n",
    "$$p_Y(Y) = \\frac{1}{15}\\int_{0}^{3} (2x + 4y)  dx = \\frac{1}{15} (\\frac{2x^2}{2} + 4xy) \\rvert_{0}^{3} = \\frac{1}{15} (9+ 12y).  $$\n",
    "The joint probability is equal to \n",
    "$$ p_{X,Y}(X,Y) = \\frac{1}{15} (2x+4y),$$ with constrictions on X and Y.\n",
    "Then \n",
    "$$p_X(X \\rvert Y = y) = \\frac{p_{X,Y}(X,Y)} {p_Y(Y)} =  \\frac{ \\frac{1}{15} (2x+ 4y)}{\\frac{1}{15} (9+12y)} = \\frac{2x +4y}{9 +12y}.$$\n",
    "So we obtain\n",
    "\n",
    "$$P(X\\leq 2 \\lvert Y=\\frac{1}{2}) = \\int_{0}^{2} \\frac{2x +4y}{9 +12y} dx = \\int_{0}^{2} \\frac{2x +2}{9 +6} dx = \\frac{1}{15} (\\frac{2x^2}{2} + 2x) \\rvert_{0}^{2} = \\frac{1}{15} \\cdot (4 + 4) = \\frac{8}{15}.$$\n",
    "\n",
    "The answer is $\\boxed{\\frac{8}{15}}.$"
   ]
  },
  {
   "cell_type": "markdown",
   "metadata": {},
   "source": [
    "## Task 4\n"
   ]
  },
  {
   "cell_type": "markdown",
   "metadata": {},
   "source": [
    "$X$ is random variable, $ X\\in\\mathbb{R}^{p}$ ,   $\\mu$ is the expected value of $X$ where $\\mu_{i}=E[X_{i}]$\n",
    "\n",
    "$X$ and $\\mu$ can be shown in the form of vector:\n",
    "\n",
    "$$\\mathbf{X}=\\begin{bmatrix}\n",
    "X_{1}  \\\\\n",
    "X_{2}  \\\\\n",
    "\\vdots \\\\\n",
    "X_{n}\n",
    "\\end{bmatrix} \n",
    "\\quad \\quad\n",
    "\\mathbf{\\mu}=\\begin{bmatrix}\n",
    "\\mu_{1}  \\\\\n",
    "\\mu_{2}  \\\\\n",
    "\\vdots \\\\\n",
    "\\mu_{n}\n",
    "\\end{bmatrix} $$\n",
    "\n",
    "\n",
    "the covariance matrix $C$ is the matrix whose $(i,j)$ entry is the covariance\n",
    "\n",
    "$$ C_{ij}=E[(X_{i}-\\mu_{i})[(X_{j}-\\mu_{j})] $$\n",
    "\n",
    "\n",
    "$$C=\\begin{bmatrix}\n",
    "E[(X_{1}-\\mu_{1})(X_{1}-\\mu_{1})] & E[(X_{1}-\\mu_{1})(X_{2}-\\mu_{2})] & \\cdots &E[(X_{1}-\\mu_{1})(X_{p}-\\mu_{p})] \\\\\n",
    "E[(X_{2}-\\mu_{2})(X_{1}-\\mu_{1})]&E[(X_{2}-\\mu_{2})(X_{2}-\\mu_{2})] & \\cdots & E[(X_{2}-\\mu_{2})(X_{p}-\\mu_{p})] \\\\\n",
    "\\vdots & \\vdots & \\ddots & \\vdots \\\\\n",
    "E[(X_{p}-\\mu_{p})(X_{1}-\\mu_{1})]&E[(X_{p}-\\mu_{p})(X_{2}-\\mu_{2})] & \\cdots & E[(X_{p}-\\mu_{p})(X_{p}-\\mu_{p})]\n",
    "\\end{bmatrix} $$\n",
    "\n",
    "Obviously, $C$ is a symmetric matrix.\n",
    "\n",
    "The definition above is equivalent to the matrix\n",
    "\n",
    "$$ C=E[(\\mathbf{X}-\\mathbf{\\mu})(\\mathbf{X}-\\mathbf{\\mu})^{T}] $$\n",
    "\n",
    "for any vector $y\\in \\mathbb{R}^{p}$, \n",
    "\n",
    "$$y^{T}Cy=y^{T}E[(\\mathbf{X}-\\mathbf{\\mu})(\\mathbf{X}-\\mathbf{\\mu})^{T}]y    \\\\\n",
    "\\quad \\quad=E[y^{T}(\\mathbf{X}-\\mathbf{\\mu})(\\mathbf{X}-\\mathbf{\\mu})^{T}y]     \\\\\n",
    "\\quad \\quad=E[((\\mathbf{X}-\\mathbf{\\mu})^{T}y)^{T}((\\mathbf{X}-\\mathbf{\\mu})^{T}y)]     \\\\\n",
    "\\quad \\quad=E[||(\\mathbf{X}-\\mathbf{\\mu})^{T}y||^{2}]  \\\\\n",
    "\\quad \\quad \\geqslant 0 \\\\ $$\n",
    "\n",
    "So $C$ is also a positive semidefinite matrix.\n"
   ]
  }
 ],
 "metadata": {
  "kernelspec": {
   "display_name": "Python 3",
   "language": "python",
   "name": "python3"
  },
  "language_info": {
   "codemirror_mode": {
    "name": "ipython",
    "version": 3
   },
   "file_extension": ".py",
   "mimetype": "text/x-python",
   "name": "python",
   "nbconvert_exporter": "python",
   "pygments_lexer": "ipython3",
   "version": "3.6.1"
  }
 },
 "nbformat": 4,
 "nbformat_minor": 1
}
